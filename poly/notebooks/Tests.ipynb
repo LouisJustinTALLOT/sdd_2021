{
 "cells": [
  {
   "cell_type": "markdown",
   "metadata": {},
   "source": [
    "## Génération de figures pour le chapitre « Tests statistiques »."
   ]
  },
  {
   "cell_type": "code",
   "execution_count": null,
   "metadata": {},
   "outputs": [],
   "source": [
    "%pylab inline"
   ]
  },
  {
   "cell_type": "code",
   "execution_count": null,
   "metadata": {},
   "outputs": [],
   "source": [
    "plt.rc('font', **{'family':'sans', 'size': 20})\n",
    "\n",
    "matplotlib.rcParams.update({\n",
    "    'text.usetex': True,\n",
    "    'text.latex.preamble': r\"\\usepackage{mathptmx} \\usepackage{amsmath} \\usepackage{amssymb}\"})"
   ]
  },
  {
   "cell_type": "code",
   "execution_count": null,
   "metadata": {},
   "outputs": [],
   "source": [
    "prop_cycle = plt.rcParams['axes.prop_cycle']\n",
    "def_colors = prop_cycle.by_key()['color']"
   ]
  },
  {
   "cell_type": "code",
   "execution_count": null,
   "metadata": {},
   "outputs": [],
   "source": [
    "import scipy.stats as st"
   ]
  },
  {
   "cell_type": "markdown",
   "metadata": {},
   "source": [
    "### Z-score"
   ]
  },
  {
   "cell_type": "code",
   "execution_count": null,
   "metadata": {},
   "outputs": [],
   "source": [
    "xxx = np.linspace(-3, 3, 500)"
   ]
  },
  {
   "cell_type": "code",
   "execution_count": null,
   "metadata": {},
   "outputs": [],
   "source": [
    "y = st.norm.pdf(xxx, 0, 1.)"
   ]
  },
  {
   "cell_type": "code",
   "execution_count": null,
   "metadata": {},
   "outputs": [],
   "source": [
    "alpha = 0.05\n",
    "z0 = st.norm.ppf((1 - alpha/2), 0., 1.) # inverse cumulative distribution function\n",
    "print(\"z_0 = %.2f\" % z0)"
   ]
  },
  {
   "cell_type": "code",
   "execution_count": null,
   "metadata": {},
   "outputs": [],
   "source": [
    "st.norm.cdf(1.96, 0, 1)"
   ]
  },
  {
   "cell_type": "code",
   "execution_count": null,
   "metadata": {},
   "outputs": [],
   "source": [
    "fig = plt.figure(figsize=(6, 4))\n",
    "\n",
    "# Gaussian\n",
    "plt.plot(xxx, y, lw=3, label=r'$Z$')\n",
    "\n",
    "# Color space where |Z|>z0\n",
    "xxx_l = np.linspace(-3, -z0, 20)\n",
    "plt.fill_between(xxx_l, 0, st.norm.pdf(xxx_l, 0, 1.), color=def_colors[1])\n",
    "\n",
    "xxx_r = np.linspace(z0, 3, 20)\n",
    "plt.fill_between(xxx_r, 0, st.norm.pdf(xxx_r, 0, 1.), color=def_colors[1])\n",
    "\n",
    "# Text and arrows\n",
    "plt.text(-3., 0.2,  r'$\\mathbb{P}(|Z| > z_0) = \\alpha/2$', color=def_colors[1])\n",
    "plt.arrow(-2.5, 0.18, 0, -0.15, color=def_colors[1], length_includes_head=True,\n",
    "          head_width=0.2, head_length=0.025)\n",
    "plt.arrow(-0.1, 0.18, 2, -0.15, color=def_colors[1], length_includes_head=True,\n",
    "          head_width=0.025, head_length=0.25)\n",
    "\n",
    "t = plt.xticks([-z0, 0, z0], [r'$-z_0$', '0', r'$z_0$'])\n",
    "#t = plt.yticks([], [])\n",
    "#plt.legend()\n",
    "plt.savefig('../figures/tests/z_moyenne.pdf', bbox_inches='tight')"
   ]
  },
  {
   "cell_type": "markdown",
   "metadata": {},
   "source": [
    "### Pigeons "
   ]
  },
  {
   "cell_type": "code",
   "execution_count": null,
   "metadata": {},
   "outputs": [],
   "source": [
    "n = 40\n",
    "mn = 312\n",
    "mu0 = 300\n",
    "sighat = 31"
   ]
  },
  {
   "cell_type": "code",
   "execution_count": null,
   "metadata": {},
   "outputs": [],
   "source": [
    "Zobs = np.sqrt(n)*(mn - mu0)/sighat"
   ]
  },
  {
   "cell_type": "code",
   "execution_count": null,
   "metadata": {},
   "outputs": [],
   "source": [
    "print(\"z = %.2f\" % Zobs)"
   ]
  },
  {
   "cell_type": "code",
   "execution_count": null,
   "metadata": {},
   "outputs": [],
   "source": [
    "print(\"p-valeur = %.3f\" % st.norm.cdf(-Zobs))"
   ]
  },
  {
   "cell_type": "code",
   "execution_count": null,
   "metadata": {},
   "outputs": [],
   "source": [
    "print(\"%.2f\" % st.norm.ppf((1 - 0.01/2), 0., 1.))"
   ]
  },
  {
   "cell_type": "markdown",
   "metadata": {},
   "source": [
    "### Various significance levels"
   ]
  },
  {
   "cell_type": "code",
   "execution_count": null,
   "metadata": {},
   "outputs": [],
   "source": [
    "xxx = np.linspace(-3.5, 3.5, 500)"
   ]
  },
  {
   "cell_type": "code",
   "execution_count": null,
   "metadata": {},
   "outputs": [],
   "source": [
    "y = st.norm.pdf(xxx, 0, 1.)"
   ]
  },
  {
   "cell_type": "code",
   "execution_count": null,
   "metadata": {},
   "outputs": [],
   "source": [
    "alpha1 = 0.05\n",
    "z1 = st.norm.ppf((1 - alpha1/2), 0., 1.) # inverse cumulative distribution function\n",
    "print(\"z_1 = %.2f\" % z1)\n",
    "\n",
    "alpha2 = 0.01\n",
    "z2 = st.norm.ppf((1 - alpha2/2), 0., 1.) # inverse cumulative distribution function\n",
    "print(\"z_2 = %.2f\" % z2)"
   ]
  },
  {
   "cell_type": "code",
   "execution_count": null,
   "metadata": {},
   "outputs": [],
   "source": [
    "fig = plt.figure(figsize=(10, 6))\n",
    "\n",
    "# Gaussian\n",
    "plt.plot(xxx, y, lw=3)\n",
    "\n",
    "# alpha1\n",
    "plt.plot([-z1, -z1], [-0.1, 0.42], color=def_colors[1], \n",
    "         label=(r'$\\alpha=%.2f$' % alpha1))\n",
    "plt.plot([z1, z1], [-0.1, 0.42], color=def_colors[1])\n",
    "plt.arrow(-z1, -0.06, -1.6, 0, color=def_colors[1], \n",
    "          length_includes_head=True,\n",
    "          head_width=0.015, head_length=0.2)\n",
    "plt.arrow(z1, -0.06, 1.6, 0, color=def_colors[1], \n",
    "          length_includes_head=True,\n",
    "          head_width=0.015, head_length=0.2)\n",
    "\n",
    "# alpha2\n",
    "plt.plot([-z2, -z2], [-0.1, 0.42], color=def_colors[2], \n",
    "         label=(r'$\\alpha=%.2f$' % alpha2))\n",
    "plt.plot([z2, z2], [-0.1, 0.42], color=def_colors[2])\n",
    "plt.arrow(-z2, -0.09, -1., 0, color=def_colors[2], \n",
    "          length_includes_head=True,\n",
    "          head_width=0.015, head_length=0.2)\n",
    "plt.arrow(z2, -0.09, 1., 0, color=def_colors[2], \n",
    "          length_includes_head=True,\n",
    "          head_width=0.015, head_length=0.2)\n",
    "\n",
    "# Observation\n",
    "plt.scatter([Zobs], [0], s=200, color=def_colors[3], marker='x', \n",
    "            lw=2, label=r'$Z$ observée')\n",
    "\n",
    "# Axes\n",
    "t = plt.xticks([-z2, -z1, 0, z1, z2], \n",
    "               [(\"-%.2f\" % z2), (\"-%.2f\" % z1), '0', (\"%.2f\" % z1), (\"%.2f\" % z2)])\n",
    "t = plt.yticks(np.linspace(0., 0.4, 5))\n",
    "plt.ylim(-0.1, 0.45)\n",
    "\n",
    "plt.plot([-3.7, 3.7], [0., 0.], 'k', lw=1)\n",
    "plt.xlim(-3.7, 3.7)\n",
    "\n",
    "plt.legend(loc=(0.65, 0.7))\n",
    "\n",
    "plt.savefig('../figures/tests/z_pigeons.pdf', bbox_inches='tight')"
   ]
  },
  {
   "cell_type": "markdown",
   "metadata": {},
   "source": [
    "### One-sided test"
   ]
  },
  {
   "cell_type": "code",
   "execution_count": null,
   "metadata": {},
   "outputs": [],
   "source": [
    "alpha1 = 0.05\n",
    "z1r = - st.norm.ppf(alpha1, 0., 1.) # inverse cumulative distribution function\n",
    "print(\"z_1 = %.2f\" % z1r)\n",
    "\n",
    "alpha2 = 0.01\n",
    "z2r = - st.norm.ppf(alpha2, 0., 1.) # inverse cumulative distribution function\n",
    "print(\"z_2 = %.2f\" % z2r)"
   ]
  },
  {
   "cell_type": "code",
   "execution_count": null,
   "metadata": {},
   "outputs": [],
   "source": [
    "fig = plt.figure(figsize=(10, 6))\n",
    "\n",
    "# Gaussian\n",
    "plt.plot(xxx, y, lw=3)\n",
    "\n",
    "# alpha1\n",
    "plt.plot([-z1, -z1], [-0.13, 0.42], color=def_colors[1], \n",
    "         label=(r'$\\alpha=%.2f$ (bilatéral)' % alpha1), ls='--')\n",
    "plt.plot([z1, z1], [-0.13, 0.42], color=def_colors[1], ls='--')\n",
    "plt.arrow(-z1, -0.06, -1.6, 0, color=def_colors[1], \n",
    "          length_includes_head=True,\n",
    "          head_width=0.015, head_length=0.2, ls='--')\n",
    "plt.arrow(z1, -0.06, 1.6, 0, color=def_colors[1], length_includes_head=True,\n",
    "          head_width=0.015, head_length=0.2, ls='--')\n",
    "\n",
    "# alpha1 unilatéral à droite\n",
    "plt.plot([z1r, z1r], [-0.13, 0.42], color=def_colors[1], \n",
    "         label=(r'$\\alpha=%.2f$ (unilatéral)' % alpha1))\n",
    "plt.arrow(z1r, -0.03, 1.6, 0, color=def_colors[1], length_includes_head=True,\n",
    "          head_width=0.015, head_length=0.2)\n",
    "\n",
    "\n",
    "# alpha2\n",
    "plt.plot([-z2, -z2], [-0.13, 0.42], color=def_colors[2], \n",
    "         label=(r'$\\alpha=%.2f$  (bilatéral)' % alpha2), ls='--')\n",
    "plt.plot([z2, z2], [-0.13, 0.42], color=def_colors[2], ls='--')\n",
    "plt.arrow(-z2, -0.12, -1., 0, color=def_colors[2], \n",
    "          length_includes_head=True,\n",
    "          head_width=0.015, head_length=0.2, ls='--')\n",
    "plt.arrow(z2, -0.12, 1., 0, color=def_colors[2], \n",
    "          length_includes_head=True,\n",
    "          head_width=0.015, head_length=0.2, ls='--')\n",
    "\n",
    "# alpha2 unilatéral à droite \n",
    "plt.plot([z2r, z2r], [-0.13, 0.42], color=def_colors[2], \n",
    "         label=(r'$\\alpha=%.2f$ (unilatéral)' % alpha2))\n",
    "plt.arrow(z2r, -0.09, 1., 0, color=def_colors[2], \n",
    "          length_includes_head=True,\n",
    "          head_width=0.015, head_length=0.2)\n",
    "\n",
    "\n",
    "# Observation\n",
    "plt.scatter([Zobs], [0], s=200, color=def_colors[3], marker='x', \n",
    "            lw=2, label=r'$Z$ observée')\n",
    "\n",
    "# Axes\n",
    "t = plt.xticks([-z2, -z1, 0, z1r, z2r], \n",
    "               [(\"-%.2f\" % z2), (\"-%.2f\" % z1), '0', (\"%.2f\" % z1r), (\"%.2f\" % z2r)])\n",
    "t = plt.yticks(np.linspace(0., 0.4, 5))\n",
    "plt.ylim(-0.13, 0.45)\n",
    "\n",
    "plt.plot([-3.7, 3.7], [0., 0.], 'k', lw=1)\n",
    "plt.xlim(-3.7, 3.7)\n",
    "\n",
    "plt.legend(loc=(0.9, 0.4))\n",
    "\n",
    "plt.savefig('../figures/tests/z_pigeons_unilateral.pdf', bbox_inches='tight')"
   ]
  },
  {
   "cell_type": "markdown",
   "metadata": {},
   "source": [
    "### Intervalles de confiance "
   ]
  },
  {
   "cell_type": "code",
   "execution_count": null,
   "metadata": {},
   "outputs": [],
   "source": [
    "print(\"IC à %.0f%% : [%.1f, %.1f]\" % ((100*(1-alpha1)), (mn - sighat*z1/np.sqrt(n)), (mn + sighat*z1/np.sqrt(n))))"
   ]
  },
  {
   "cell_type": "code",
   "execution_count": null,
   "metadata": {},
   "outputs": [],
   "source": [
    "print(\"IC à %.0f%% : [%.1f, %.1f]\" % ((100*(1-alpha2)), (mn - sighat*z2/np.sqrt(n)), (mn + sighat*z2/np.sqrt(n))))"
   ]
  },
  {
   "cell_type": "code",
   "execution_count": null,
   "metadata": {},
   "outputs": [],
   "source": [
    "print(\"IC à droite à %.0f%% : [%.1f, +inf[\" % ((100*(1-alpha1)), (mn - sighat*z1r/np.sqrt(n))))"
   ]
  },
  {
   "cell_type": "code",
   "execution_count": null,
   "metadata": {},
   "outputs": [],
   "source": [
    "print(\"IC à droite à %.0f%% : [%.1f, +inf[\" % ((100*(1-alpha2)), (mn - sighat*z2r/np.sqrt(n))))"
   ]
  },
  {
   "cell_type": "markdown",
   "metadata": {},
   "source": [
    "## Binomial test"
   ]
  },
  {
   "cell_type": "code",
   "execution_count": null,
   "metadata": {},
   "outputs": [],
   "source": [
    "st.binom_test(12, n=15, p=0.5, alternative='greater')"
   ]
  },
  {
   "cell_type": "code",
   "execution_count": null,
   "metadata": {},
   "outputs": [],
   "source": [
    "1-st.binom.cdf(11, n=15, p=0.5)"
   ]
  },
  {
   "cell_type": "code",
   "execution_count": null,
   "metadata": {},
   "outputs": [],
   "source": [
    "1-st.binom.cdf(2, n=125, p=0.018)"
   ]
  }
 ],
 "metadata": {
  "kernelspec": {
   "display_name": "Python 3",
   "language": "python",
   "name": "python3"
  },
  "language_info": {
   "codemirror_mode": {
    "name": "ipython",
    "version": 3
   },
   "file_extension": ".py",
   "mimetype": "text/x-python",
   "name": "python",
   "nbconvert_exporter": "python",
   "pygments_lexer": "ipython3",
   "version": "3.9.4"
  }
 },
 "nbformat": 4,
 "nbformat_minor": 4
}
