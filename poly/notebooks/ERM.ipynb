{
 "cells": [
  {
   "cell_type": "markdown",
   "metadata": {},
   "source": [
    "## Génération de figures pour le chapitre « Minimisation du risque empirique »."
   ]
  },
  {
   "cell_type": "code",
   "execution_count": 1,
   "metadata": {},
   "outputs": [
    {
     "name": "stdout",
     "output_type": "stream",
     "text": [
      "Populating the interactive namespace from numpy and matplotlib\n"
     ]
    }
   ],
   "source": [
    "%pylab inline"
   ]
  },
  {
   "cell_type": "code",
   "execution_count": 2,
   "metadata": {},
   "outputs": [],
   "source": [
    "plt.rc('font', **{'family':'sans', 'size': 20})\n",
    "\n",
    "matplotlib.rcParams.update({\n",
    "    'text.usetex': True,\n",
    "    'text.latex.preamble': r\"\\usepackage{mathptmx} \\usepackage{amsmath} \\usepackage{amssymb}\"})"
   ]
  },
  {
   "cell_type": "code",
   "execution_count": 3,
   "metadata": {},
   "outputs": [],
   "source": [
    "prop_cycle = plt.rcParams['axes.prop_cycle']\n",
    "def_colors = prop_cycle.by_key()['color']"
   ]
  },
  {
   "cell_type": "code",
   "execution_count": 4,
   "metadata": {},
   "outputs": [],
   "source": [
    "import scipy.stats as st"
   ]
  },
  {
   "cell_type": "markdown",
   "metadata": {},
   "source": [
    "## Simple classification problem"
   ]
  },
  {
   "cell_type": "code",
   "execution_count": null,
   "metadata": {},
   "outputs": [],
   "source": [
    "X = np.random.uniform(low=-1.0, high=1.0, size=(250, 2))"
   ]
  },
  {
   "cell_type": "code",
   "execution_count": null,
   "metadata": {},
   "outputs": [],
   "source": [
    "pos = np.where(3*X[:, 0]**2 + X[:, 1]**2 < 0.5)[0]\n",
    "neg = np.where(3*X[:, 0]**2 + X[:, 1]**2 >= 0.75)[0]"
   ]
  },
  {
   "cell_type": "code",
   "execution_count": null,
   "metadata": {},
   "outputs": [],
   "source": [
    "fig = plt.figure(figsize=(7, 7))\n",
    "#plt.axis('off')\n",
    "plt.scatter(X[pos, 0], X[pos, 1], marker='x', s=142)\n",
    "plt.scatter(X[neg, 0], X[neg, 1], marker='+', s=142)\n",
    "\n",
    "t=plt.xticks([-1, -0.5, 0, 0.5, 1.], [\"-1\", \"-0.5\", \"0\", \"0.5\", \"1\"])\n",
    "t=plt.yticks([-1, -0.5, 0, 0.5, 1.], [\"-1\", \"-0.5\", \"0\", \"0.5\", \"1\"])\n",
    "\n",
    "plt.xlabel(\"$x_1$\")\n",
    "plt.ylabel(\"$x_2$\")\n",
    "\n",
    "#t=plt.xlim([-4.2, 4.2])\n",
    "\n",
    "plt.savefig('../figures/erm/simple_classif.pdf', bbox_inches='tight')"
   ]
  },
  {
   "cell_type": "markdown",
   "metadata": {},
   "source": [
    "## Multiple solutions to linear classifier"
   ]
  },
  {
   "cell_type": "code",
   "execution_count": null,
   "metadata": {},
   "outputs": [],
   "source": [
    "X = np.loadtxt('linearly_separable_X.csv')\n",
    "y = np.loadtxt('linearly_separable_y.csv')\n",
    "\n",
    "# remove 11 and 25, which are too close to the hyperplane\n",
    "X = np.delete(X, 25, axis=0)\n",
    "X = np.delete(X, 11, axis=0)\n",
    "y = np.delete(y, 25)\n",
    "y = np.delete(y, 11)\n",
    "\n",
    "pos = [i for i in range(X.shape[0]) if y[i] > 0]\n",
    "neg = [i for i in range(X.shape[0]) if i not in pos]"
   ]
  },
  {
   "cell_type": "code",
   "execution_count": null,
   "metadata": {},
   "outputs": [],
   "source": [
    "fig = plt.figure(figsize=(8, 8))\n",
    "plt.axis('off')\n",
    "plt.scatter(X[pos, 0], X[pos, 1], marker='x', s=142)\n",
    "plt.scatter(X[neg, 0], X[neg, 1], marker='+', s=142)\n",
    "#plt.plot([0.1, 0.5], [0, 1], \":\", lw=2, color='k') \n",
    "plt.plot([0.11, 0.51], [0, 1], \":\", lw=2, color='k') \n",
    "plt.plot([0.12, 0.55], [0, 1], \":\", lw=2, color='k') \n",
    "plt.plot([0.08, 0.6], [0, 1], ':', lw=2, color='k')\n",
    "plt.plot([0.06, 0.5], [0, 1], ':', lw=2, color='k')\n",
    "plt.plot([0.07, 0.58], [0, 1], ':', lw=2, color='k')\n",
    "\n",
    "plt.savefig('../figures/erm/multiple_solutions.pdf', bbox_inches='tight')"
   ]
  },
  {
   "cell_type": "markdown",
   "metadata": {},
   "source": [
    "## Cross-entropy"
   ]
  },
  {
   "cell_type": "markdown",
   "metadata": {},
   "source": [
    "### Positive points"
   ]
  },
  {
   "cell_type": "code",
   "execution_count": null,
   "metadata": {},
   "outputs": [],
   "source": [
    "xvals = np.linspace(0.0001, 0.9999, 199)"
   ]
  },
  {
   "cell_type": "code",
   "execution_count": null,
   "metadata": {},
   "outputs": [],
   "source": [
    "#from __future__ import unicode_literals\n",
    "fig, ax = plt.subplots(figsize=(5, 5))\n",
    "\n",
    "# perte 0/1\n",
    "#yvals = np.where(xvals <=0, 1, 0)\n",
    "#yvals[list(yvals).index(0)-1] = 0\n",
    "#plt.plot(xvals, yvals, label=\"co\\^ut 0/1\", lw=3, ls='-')\n",
    "\n",
    "# logistic loss\n",
    "plt.plot(xvals, -np.log(xvals), label=u\"entropie croisée\", \n",
    "        lw=3, ls='-')\n",
    "\n",
    "# xticks\n",
    "majorLocator = MultipleLocator(0.2)\n",
    "majorFormatter = FormatStrFormatter('%.1f')\n",
    "# major ticks\n",
    "ax.xaxis.set_major_locator(majorLocator)\n",
    "ax.xaxis.set_major_formatter(majorFormatter)\n",
    "# for the minor ticks, use no labels; default NullFormatter\n",
    "minorLocator = MultipleLocator(0.1)\n",
    "ax.xaxis.set_minor_locator(minorLocator)\n",
    "#ax.tick_params(labelsize=18)\n",
    "\n",
    "# yticks\n",
    "majorLocator = MultipleLocator(2.)\n",
    "majorFormatter = FormatStrFormatter('%.1f')\n",
    "# major ticks\n",
    "ax.yaxis.set_major_locator(majorLocator)\n",
    "ax.yaxis.set_major_formatter(majorFormatter)\n",
    "# for the minor ticks, use no labels; default NullFormatter\n",
    "minorLocator = MultipleLocator(0.5)\n",
    "ax.yaxis.set_minor_locator(minorLocator)\n",
    "\n",
    "plt.xlabel(r\"$f(\\vec{x})$\")\n",
    "plt.ylabel(r\"$L(+, f(\\vec{x}))$\")\n",
    "\n",
    "plt.grid()\n",
    "\n",
    "#lg = plt.legend(loc=(0.25, 0.6), frameon=False)\n",
    "plt.savefig('../figures/erm/logistic_loss_pos.pdf', bbox_inches='tight')"
   ]
  },
  {
   "cell_type": "code",
   "execution_count": null,
   "metadata": {},
   "outputs": [],
   "source": [
    "fig, ax = plt.subplots(figsize=(5, 5))\n",
    "\n",
    "# perte 0/1\n",
    "#yvals = np.where(xvals >=0, 1, 0)\n",
    "#yvals[list(yvals).index(0)-1] = 0\n",
    "#plt.plot(xvals, yvals, label=\"co\\^ut 0/1\", lw=3, ls='--')\n",
    "\n",
    "# perte quadratique\n",
    "#plt.plot(xvals, (1+xvals)**2, label=\"co\\^ut quadratique\", lw=3, ls='-.')\n",
    "\n",
    "# hinge loss\n",
    "#yvals = np.where(xvals > -1, 1+xvals, 0)\n",
    "#plt.plot(xvals, yvals, label=\"perte hinge\", lw=3)\n",
    "\n",
    "# logistic loss\n",
    "plt.plot(xvals, -np.log(1-xvals), label=u\"entropie croisée\", \n",
    "        lw=3, ls='-')\n",
    "\n",
    "# xticks\n",
    "majorLocator = MultipleLocator(0.2)\n",
    "majorFormatter = FormatStrFormatter('%.1f')\n",
    "# major ticks\n",
    "ax.xaxis.set_major_locator(majorLocator)\n",
    "ax.xaxis.set_major_formatter(majorFormatter)\n",
    "# for the minor ticks, use no labels; default NullFormatter\n",
    "#minorLocator = MultipleLocator(1)\n",
    "#ax.xaxis.set_minor_locator(minorLocator)\n",
    "#ax.tick_params(labelsize=18)\n",
    "\n",
    "# yticks\n",
    "majorLocator = MultipleLocator(2.)\n",
    "majorFormatter = FormatStrFormatter('%.1f')\n",
    "# major ticks\n",
    "ax.yaxis.set_major_locator(majorLocator)\n",
    "ax.yaxis.set_major_formatter(majorFormatter)\n",
    "# for the minor ticks, use no labels; default NullFormatter\n",
    "#minorLocator = MultipleLocator(0.5)\n",
    "#ax.yaxis.set_minor_locator(minorLocator)\n",
    "\n",
    "plt.xlabel(r\"$f(\\vec{x})$\")\n",
    "plt.ylabel(r\"$L(-, f(\\vec{x}))$\")\n",
    "\n",
    "plt.grid()\n",
    "\n",
    "#lg = plt.legend(loc=(0.05, 0.6), frameon=False)\n",
    "plt.savefig('../figures/erm/logistic_loss_neg.pdf', bbox_inches='tight')"
   ]
  },
  {
   "cell_type": "code",
   "execution_count": null,
   "metadata": {},
   "outputs": [],
   "source": [
    "xvals = np.linspace(-3, 3, 199)"
   ]
  },
  {
   "cell_type": "code",
   "execution_count": null,
   "metadata": {},
   "outputs": [],
   "source": [
    "fig, ax = plt.subplots(figsize=(7, 7))\n",
    "\n",
    "# perte 0/1\n",
    "yvals = np.where(xvals <=0, 1, 0)\n",
    "plt.plot(xvals, yvals, label=\"co\\^ut 0/1\", lw=3, ls='--')\n",
    "\n",
    "# hinge loss\n",
    "#yvals = np.where(xvals <=1, 1-xvals, 0)\n",
    "#plt.plot(xvals, yvals, label=\"perte hinge\", lw=3)\n",
    "\n",
    "# logistic loss\n",
    "plt.plot(xvals, np.log(1 + np.exp(-xvals)), label=\"co\\^ut logistique\", \n",
    "        lw=3, ls=':')\n",
    "\n",
    "# xticks\n",
    "majorLocator = MultipleLocator(1)\n",
    "majorFormatter = FormatStrFormatter('%.1f')\n",
    "# major ticks\n",
    "ax.xaxis.set_major_locator(majorLocator)\n",
    "ax.xaxis.set_major_formatter(majorFormatter)\n",
    "# for the minor ticks, use no labels; default NullFormatter\n",
    "#minorLocator = MultipleLocator(1)\n",
    "#ax.xaxis.set_minor_locator(minorLocator)\n",
    "#ax.tick_params(labelsize=18)\n",
    "\n",
    "# yticks\n",
    "majorLocator = MultipleLocator(1.)\n",
    "majorFormatter = FormatStrFormatter('%.1f')\n",
    "# major ticks\n",
    "ax.yaxis.set_major_locator(majorLocator)\n",
    "ax.yaxis.set_major_formatter(majorFormatter)\n",
    "# for the minor ticks, use no labels; default NullFormatter\n",
    "minorLocator = MultipleLocator(0.5)\n",
    "ax.yaxis.set_minor_locator(minorLocator)\n",
    "\n",
    "plt.xlabel(r\"$y f(\\vec{x})$\")\n",
    "plt.ylabel(r\"$L(y, f(\\vec{x}))$\")\n",
    "\n",
    "lg = plt.legend(loc=(0.25, 0.6), frameon=False)\n",
    "#plt.savefig('../figures/erm/classif_losses.pdf', bbox_inches='tight')"
   ]
  },
  {
   "cell_type": "markdown",
   "metadata": {},
   "source": [
    "## Linear regression"
   ]
  },
  {
   "cell_type": "code",
   "execution_count": 16,
   "metadata": {},
   "outputs": [],
   "source": [
    "X = np.random.random(size=(50, ))\n",
    "w = np.random.random()\n",
    "eps = (np.random.random(size=(50, ))-0.5)*0.3"
   ]
  },
  {
   "cell_type": "code",
   "execution_count": 17,
   "metadata": {},
   "outputs": [],
   "source": [
    "y = np.dot(X, w) + eps"
   ]
  },
  {
   "cell_type": "code",
   "execution_count": 18,
   "metadata": {},
   "outputs": [],
   "source": [
    "f1 = X[1]*w "
   ]
  },
  {
   "cell_type": "code",
   "execution_count": 22,
   "metadata": {},
   "outputs": [
    {
     "data": {
      "image/png": "[encoded data removed]",
      "text/plain": [
       "<Figure size 432x432 with 1 Axes>"
      ]
     },
     "metadata": {},
     "output_type": "display_data"
    }
   ],
   "source": [
    "fig = plt.figure(figsize=(6, 6))\n",
    "ax = fig.add_subplot(1, 1, 1)\n",
    "\n",
    "plt.scatter(X, y, marker='x', s=62)\n",
    "plt.scatter(X[1], y[1], marker='x', s=122, color=def_colors[2])\n",
    "plt.scatter(X[1], f1, marker='o', s=122, color=def_colors[1])\n",
    "plt.plot([0, 1], [0, w], color=def_colors[1], ls='-', lw=3)\n",
    "\n",
    "plt.plot([X[1], X[1]], [-0.1, 0.9], color='k', ls='--')\n",
    "plt.plot([0, 1.1], [f1, f1], color='k', ls='--')\n",
    "plt.plot([0, X[1]], [y[1], y[1]], color='k', ls='--')\n",
    "\n",
    "distr = st.multivariate_normal(mean=f1, cov=0.005)\n",
    "yvals = np.linspace(f1 - 0.2, f1 + 0.2, 100)\n",
    "xvals = distr.pdf(yvals) * 0.025 + X[1]\n",
    "plt.plot(xvals, yvals, color=def_colors[2], lw=3)\n",
    "\n",
    "# Eliminate upper and right axes\n",
    "ax.spines['right'].set_color('none')\n",
    "ax.spines['top'].set_color('none')\n",
    "\n",
    "\n",
    "plt.text(X[1]-0.02, -0.15, r'$x^*$', color=def_colors[2])\n",
    "plt.text(-0.25, f1-0.03, r'$f_{\\alpha, \\beta}(x^*)$', color=def_colors[1])\n",
    "plt.text(-0.08, y[1]-0.02, r'$y^*$', color=def_colors[2])\n",
    "plt.text(1.01, w, r'$f_{\\alpha, \\beta}(x)$', color=def_colors[1])\n",
    "plt.text(X[1] + 0.05, y[1] - 0.1, r'$g_{Y|X=x^*}$', color=def_colors[2])\n",
    "\n",
    "plt.xticks([], [])\n",
    "plt.yticks([], [])\n",
    "plt.xlim([0, 1.1])\n",
    "plt.ylim([-0.1, 0.6])\n",
    "\n",
    "plt.savefig('../figures/erm/linreg.pdf', bbox_inches='tight')"
   ]
  }
 ],
 "metadata": {
  "kernelspec": {
   "display_name": "Python 3",
   "language": "python",
   "name": "python3"
  },
  "language_info": {
   "codemirror_mode": {
    "name": "ipython",
    "version": 3
   },
   "file_extension": ".py",
   "mimetype": "text/x-python",
   "name": "python",
   "nbconvert_exporter": "python",
   "pygments_lexer": "ipython3",
   "version": "3.9.4"
  }
 },
 "nbformat": 4,
 "nbformat_minor": 4
}
